{
 "cells": [
  {
   "cell_type": "markdown",
   "metadata": {},
   "source": [
    "# Architecture demonstration"
   ]
  },
  {
   "cell_type": "markdown",
   "metadata": {},
   "source": [
    "We designed the model architecture as a modification of a classic convolutional architecture - LeNet. We define it as follows:"
   ]
  },
  {
   "cell_type": "code",
   "execution_count": 1,
   "metadata": {},
   "outputs": [],
   "source": [
    "import torch.nn as nn\n",
    "from torch import flatten\n",
    "\n",
    "class CNN_SSH(nn.Module):\n",
    "    def __init__(self):\n",
    "        super(CNN_SSH, self).__init__()\n",
    "\n",
    "        self.cnn_layers_1 = nn.Sequential(\n",
    "            nn.Conv2d(1, 5, kernel_size=4, stride=2, padding=2, bias=False),\n",
    "            nn.BatchNorm2d(5),\n",
    "            nn.LeakyReLU(inplace=True),\n",
    "            nn.Dropout(p=0.5),\n",
    "            nn.Conv2d(5, 7, kernel_size=3, stride=1, padding=1, bias=False),\n",
    "            nn.BatchNorm2d(7),\n",
    "            nn.LeakyReLU(inplace=True),\n",
    "            nn.Dropout(p=0.5),\n",
    "        )\n",
    "\n",
    "        self.cnn_layers_2 = nn.Sequential(\n",
    "            nn.Conv2d(7, 9, kernel_size=3, stride=1, padding=1, bias=False),\n",
    "            nn.BatchNorm2d(9),\n",
    "            nn.LeakyReLU(inplace=True),\n",
    "            nn.Dropout(p=0.5),\n",
    "        )\n",
    "        self.avg_pool = nn.Sequential(nn.AdaptiveAvgPool2d(output_size=(1, 1)))\n",
    "\n",
    "        self.linear_layers = nn.Sequential(nn.Linear(9, 2), nn.Softmax(dim=1))\n",
    "\n",
    "    def forward(self, x):\n",
    "        x = self.cnn_layers_1(x)\n",
    "        x = self.cnn_layers_2(x)\n",
    "        x = self.avg_pool(x)\n",
    "        x = x.view(x.size(0), -1)\n",
    "        x = self.linear_layers(x)\n",
    "        return x\n"
   ]
  },
  {
   "cell_type": "markdown",
   "metadata": {},
   "source": [
    "Architecture graph"
   ]
  },
  {
   "cell_type": "markdown",
   "metadata": {},
   "source": [
    "<img src=\"./00_demonstrations_data/images/architecture.png\" alt=\"drawing\"/>"
   ]
  },
  {
   "cell_type": "markdown",
   "metadata": {},
   "source": [
    "It is also defined in an external helper file, to avoid discrepancies between files using it. From now on, we will use that definition."
   ]
  },
  {
   "cell_type": "code",
   "execution_count": 2,
   "metadata": {},
   "outputs": [],
   "source": [
    "del CNN_SSH\n",
    "from src.architecture import CNN_SSH"
   ]
  },
  {
   "cell_type": "markdown",
   "metadata": {},
   "source": [
    "Before we train the model, we need to import the dataset in a PyTorch-compatible format. To do that, we define the `Importer` loader class in [data_loaders.py](./src/data_loaders.py) file.   \n",
    "It requires passing two arguments: \n",
    "* Path to the folder with train/val/test datasets\n",
    "* default batch size for the respective data loaders. (It can be overriden later, when generating the loaders) \n",
    "Its two most important optional arguments are:\n",
    "* `device` - This allows for efficient memory allocation when using a computation device other than CPU  \n",
    "* `perturbative_ds` - When you decide to use perturbative approximation for training (datasets with little disorder), this should be the list where you give paths to them."
   ]
  },
  {
   "cell_type": "code",
   "execution_count": 3,
   "metadata": {},
   "outputs": [],
   "source": [
    "import pathlib\n",
    "import pickle\n",
    "import torch\n",
    "import torch.optim as optim\n",
    "\n",
    "import matplotlib.pyplot as plt\n",
    "import pandas as pd\n",
    "\n",
    "from src.data_loaders import Importer\n",
    "from src.training_utils import train_model, plot_training_history\n",
    "from src.utils import test_model\n",
    "\n",
    "%reload_ext autoreload\n",
    "%autoreload 2\n",
    "%aimport src.training_utils\n",
    "\n",
    "plt.rc('text', usetex=True)\n",
    "plt.rc('font', family='serif')"
   ]
  },
  {
   "cell_type": "markdown",
   "metadata": {},
   "source": [
    "Saving"
   ]
  },
  {
   "cell_type": "code",
   "execution_count": 4,
   "metadata": {},
   "outputs": [],
   "source": [
    "plots_save_path = pathlib.Path(\"./00_demonstrations_data/figures/\")\n",
    "png_save_path = plots_save_path.joinpath(\"PNG/\")\n",
    "models_root = pathlib.Path(\"./00_demonstrations_data/models/\")\n",
    "\n",
    "\n",
    "plots_save_path.mkdir(exist_ok=True, parents=True)\n",
    "png_save_path.mkdir(exist_ok=True, parents=True)\n",
    "models_root.mkdir(exist_ok=True, parents=True)"
   ]
  },
  {
   "cell_type": "code",
   "execution_count": 5,
   "metadata": {},
   "outputs": [],
   "source": [
    "fname = 'training_demonstration'\n",
    "model_save_folder = models_root.joinpath(fname)\n",
    "model_save_folder.mkdir(exist_ok=True, parents=True)"
   ]
  },
  {
   "cell_type": "markdown",
   "metadata": {},
   "source": [
    "Loading"
   ]
  },
  {
   "cell_type": "code",
   "execution_count": 6,
   "metadata": {},
   "outputs": [],
   "source": [
    "load_path = pathlib.Path(\"./00_demonstrations_data/datasets\")\n",
    "\n",
    "disorderless_ds_path = load_path.joinpath(\"disorderless\")\n",
    "disordered_001_ds_path = load_path.joinpath(\"disordered_W=0.01\")\n",
    "disordered_005_ds_path = load_path.joinpath(\"disordered_W=0.05\")"
   ]
  },
  {
   "cell_type": "code",
   "execution_count": 7,
   "metadata": {},
   "outputs": [],
   "source": [
    "device = torch.device(\"cuda:0\" if torch.cuda.is_available() else\n",
    "                        'mps' if torch.backends.mps.is_available() else\n",
    "                        \"cpu\")"
   ]
  },
  {
   "cell_type": "markdown",
   "metadata": {},
   "source": [
    "Let's here reproduce the training which yields better results - with slight disorder added to the training dataset"
   ]
  },
  {
   "cell_type": "code",
   "execution_count": 8,
   "metadata": {},
   "outputs": [],
   "source": [
    "perturb_list = [disordered_001_ds_path, disordered_005_ds_path]\n",
    "used_ds_names = [disorderless_ds_path] + perturb_list\n",
    "used_ds_names = [str(x) for x in used_ds_names]"
   ]
  },
  {
   "cell_type": "markdown",
   "metadata": {},
   "source": [
    "Training hyperparameters"
   ]
  },
  {
   "cell_type": "code",
   "execution_count": 9,
   "metadata": {},
   "outputs": [],
   "source": [
    "lr = 1e-4\n",
    "batch_size = 64\n",
    "moment = 0.9\n",
    "weight_decay = 1e-1\n",
    "epochs = 500\n",
    "\n",
    "# Early stopping\n",
    "es_dict = {\n",
    "    \"patience\" : 10 if lr < 1e-3 else 20,\n",
    "    \"tolerance\" : 0.005 if lr < 1e-3 else 0.01,\n",
    "    'warmup': 0.1*epochs,\n",
    "}"
   ]
  },
  {
   "cell_type": "markdown",
   "metadata": {},
   "source": [
    "Classes definition"
   ]
  },
  {
   "cell_type": "code",
   "execution_count": 10,
   "metadata": {},
   "outputs": [],
   "source": [
    "num_classes = 2\n",
    "class_names = [\"Trivial\", \"Topological\"]"
   ]
  },
  {
   "cell_type": "markdown",
   "metadata": {},
   "source": [
    "Data loading"
   ]
  },
  {
   "cell_type": "code",
   "execution_count": 14,
   "metadata": {},
   "outputs": [],
   "source": [
    "ds = Importer(disorderless_ds_path, batch_size, device, perturbative_ds=perturb_list)\n",
    "train_loader = ds.get_train_loader(seed=42)\n",
    "val_loader = ds.get_val_loader()\n",
    "test_loader = ds.get_test_loader()"
   ]
  },
  {
   "cell_type": "markdown",
   "metadata": {},
   "source": [
    "Model definition"
   ]
  },
  {
   "cell_type": "code",
   "execution_count": 15,
   "metadata": {},
   "outputs": [],
   "source": [
    "model = CNN_SSH().float().to(device)"
   ]
  },
  {
   "cell_type": "code",
   "execution_count": 16,
   "metadata": {},
   "outputs": [],
   "source": [
    "optimizer = optim.SGD(model.parameters(),\n",
    "                          lr=lr,\n",
    "                          momentum=moment,\n",
    "                          weight_decay=weight_decay,\n",
    "                          )"
   ]
  },
  {
   "cell_type": "code",
   "execution_count": 17,
   "metadata": {},
   "outputs": [
    {
     "data": {
      "application/vnd.jupyter.widget-view+json": {
       "model_id": "84f0067504024f8f8a60f60982d4eb13",
       "version_major": 2,
       "version_minor": 0
      },
      "text/plain": [
       "Epoch:   0%|          | 0/500 [00:00<?, ?epoch/s]"
      ]
     },
     "metadata": {},
     "output_type": "display_data"
    },
    {
     "data": {
      "application/vnd.jupyter.widget-view+json": {
       "model_id": "50036dc7e9744feaa35da49991bd4efa",
       "version_major": 2,
       "version_minor": 0
      },
      "text/plain": []
     },
     "metadata": {},
     "output_type": "display_data"
    },
    {
     "data": {
      "application/vnd.jupyter.widget-view+json": {
       "model_id": "63779d74cafe413e8a03779e93fac759",
       "version_major": 2,
       "version_minor": 0
      },
      "text/plain": []
     },
     "metadata": {},
     "output_type": "display_data"
    },
    {
     "data": {
      "application/vnd.jupyter.widget-view+json": {
       "model_id": "b3e312ae55a4434ab1886aef3391a2d6",
       "version_major": 2,
       "version_minor": 0
      },
      "text/plain": []
     },
     "metadata": {},
     "output_type": "display_data"
    }
   ],
   "source": [
    "train_history = train_model(model, \n",
    "                            epochs, \n",
    "                            train_loader, \n",
    "                            val_loader,\n",
    "                            optimizer, \n",
    "                            batch_size, \n",
    "                            num_classes, \n",
    "                            device,\n",
    "                            print_all=True, \n",
    "                            early_stopping=es_dict,\n",
    "                            fname=fname,\n",
    "                            leave=False,\n",
    "                            )"
   ]
  },
  {
   "cell_type": "markdown",
   "metadata": {},
   "source": [
    "Let's plot the training history"
   ]
  },
  {
   "cell_type": "code",
   "execution_count": 18,
   "metadata": {},
   "outputs": [
    {
     "data": {
      "image/png": "[encoded data removed]",
      "text/plain": [
       "<Figure size 1000x400 with 2 Axes>"
      ]
     },
     "metadata": {},
     "output_type": "display_data"
    }
   ],
   "source": [
    "plot_training_history(train_history, plots_save_path, fname)"
   ]
  },
  {
   "cell_type": "markdown",
   "metadata": {},
   "source": [
    "Now let's test it in-distribution"
   ]
  },
  {
   "cell_type": "code",
   "execution_count": 19,
   "metadata": {},
   "outputs": [
    {
     "name": "stdout",
     "output_type": "stream",
     "text": [
      "[INFO] Evaluating network...\n",
      "              precision    recall  f1-score   support\n",
      "\n",
      "     Trivial       1.00      1.00      1.00       250\n",
      " Topological       1.00      1.00      1.00       250\n",
      "\n",
      "    accuracy                           1.00       500\n",
      "   macro avg       1.00      1.00      1.00       500\n",
      "weighted avg       1.00      1.00      1.00       500\n",
      "\n"
     ]
    }
   ],
   "source": [
    "test_dict = test_model(model, test_loader, class_names, device, verbose=True)\n",
    "test_df = pd.DataFrame(test_dict)"
   ]
  },
  {
   "cell_type": "markdown",
   "metadata": {},
   "source": [
    "Finally, let's save both the model, and its performance metrics"
   ]
  },
  {
   "cell_type": "code",
   "execution_count": 20,
   "metadata": {},
   "outputs": [],
   "source": [
    "H = train_history\n",
    "torch.save(model.state_dict(), model_save_folder.joinpath(f\"trained_model.dict\"))\n",
    "with open(model_save_folder.joinpath(f\"trained_model_history.pickle\"), \"wb\") as f:\n",
    "    pickle.dump(train_history, f)\n",
    "with open(model_save_folder.joinpath(f\"trained_model_test.pickle\"), \"wb\") as f:\n",
    "    pickle.dump(test_dict, f)\n",
    "# Save the training, validation and test stats to a text file\n",
    "with open(model_save_folder.joinpath(f\"trained_model_stats.txt\"), \"w\") as f:\n",
    "    f.write(f\"Training history:\\n\")\n",
    "    f.write(f\"Train loss: {H['train_loss'][-1]}\\n\")\n",
    "    f.write(f\"Validation loss: {H['val_loss'][-1]}\\n\")\n",
    "    f.write(f\"Train accuracy: {H['train_acc'][-1]}\\n\")\n",
    "    f.write(f\"Validation accuracy: {H['val_acc'][-1]}\\n\")\n",
    "    f.write(\"Test set\\n\\n\")\n",
    "    test_df = test_df.applymap(lambda x: round(x, 2))\n",
    "    test_df.to_string(f)"
   ]
  }
 ],
 "metadata": {
  "kernelspec": {
   "display_name": "ML_Pytorch",
   "language": "python",
   "name": "python3"
  },
  "language_info": {
   "codemirror_mode": {
    "name": "ipython",
    "version": 3
   },
   "file_extension": ".py",
   "mimetype": "text/x-python",
   "name": "python",
   "nbconvert_exporter": "python",
   "pygments_lexer": "ipython3",
   "version": "3.8.-1"
  }
 },
 "nbformat": 4,
 "nbformat_minor": 2
}
